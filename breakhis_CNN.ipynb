{
  "nbformat": 4,
  "nbformat_minor": 0,
  "metadata": {
    "colab": {
      "name": "breakhis_CNN.ipynb",
      "provenance": [],
      "collapsed_sections": [],
      "authorship_tag": "ABX9TyOqkD5aJU/rS2Gfl1xFGZ+A",
      "include_colab_link": true
    },
    "kernelspec": {
      "name": "python3",
      "display_name": "Python 3"
    },
    "language_info": {
      "name": "python"
    }
  },
  "cells": [
    {
      "cell_type": "markdown",
      "metadata": {
        "id": "view-in-github",
        "colab_type": "text"
      },
      "source": [
        "<a href=\"https://colab.research.google.com/github/pedrohortencio/cancer-detection/blob/main/breakhis_CNN.ipynb\" target=\"_parent\"><img src=\"https://colab.research.google.com/assets/colab-badge.svg\" alt=\"Open In Colab\"/></a>"
      ]
    },
    {
      "cell_type": "markdown",
      "metadata": {
        "id": "5EaLeShiJMnG"
      },
      "source": [
        "[Breast Cancer Histopathological Database - UFPR](https://web.inf.ufpr.br/vri/databases/breast-cancer-histopathological-database-breakhis/)"
      ]
    },
    {
      "cell_type": "code",
      "metadata": {
        "colab": {
          "base_uri": "https://localhost:8080/"
        },
        "id": "qIABkizAc0Pi",
        "outputId": "894791aa-b722-4d7d-c72c-bf756df4af3c"
      },
      "source": [
        "from google.colab import drive\n",
        "import os, sys, shutil\n",
        "\n",
        "import numpy as np\n",
        "import pandas as pd\n",
        "\n",
        "import matplotlib.pyplot as plt\n",
        "import seaborn as sns\n",
        "\n",
        "from glob import glob\n",
        "\n",
        "import tensorflow as tf\n",
        "import keras\n",
        "from tensorflow.keras.applications.mobilenet_v2 import preprocess_input\n",
        "from tensorflow.keras.applications import ResNet50V2\n",
        "from tensorflow.keras.preprocessing.image import ImageDataGenerator\n",
        "from tensorflow.keras.layers import Dense, Dropout, Flatten, LeakyReLU, GlobalAveragePooling2D, BatchNormalization, ReLU\n",
        "from tensorflow.keras.models import Sequential\n",
        "from tensorflow.keras.callbacks import EarlyStopping, ReduceLROnPlateau, ModelCheckpoint\n",
        "from tensorflow.keras.optimizers import Adam\n",
        "from sklearn.utils import shuffle\n",
        "\n",
        "sns.set_theme()\n",
        "\n",
        "drive.mount('/content/drive')"
      ],
      "execution_count": 312,
      "outputs": [
        {
          "output_type": "stream",
          "text": [
            "Drive already mounted at /content/drive; to attempt to forcibly remount, call drive.mount(\"/content/drive\", force_remount=True).\n"
          ],
          "name": "stdout"
        }
      ]
    },
    {
      "cell_type": "code",
      "metadata": {
        "id": "-Nn-wx4SbSvi"
      },
      "source": [
        "!pip install pyfastcopy\n",
        "import pyfastcopy"
      ],
      "execution_count": null,
      "outputs": []
    },
    {
      "cell_type": "code",
      "metadata": {
        "colab": {
          "base_uri": "https://localhost:8080/"
        },
        "id": "W8ArhqCDhtC6",
        "outputId": "b70fb196-b28c-4743-b1d6-04dd6a825687"
      },
      "source": [
        "print(\"Quantidade de Amostras Benignas:\",\n",
        "      len(os.listdir('/content/drive/MyDrive/data_400X/SOB/400X/benign')))\n",
        "\n",
        "print(\"Quantidade de Amostras Malignas:\",\n",
        "      len(os.listdir('/content/drive/MyDrive/data_400X/SOB/400X/malignant')))"
      ],
      "execution_count": 2,
      "outputs": [
        {
          "output_type": "stream",
          "text": [
            "Quantidade de Amostras Benignas: 588\n",
            "Quantidade de Amostras Malignas: 1232\n"
          ],
          "name": "stdout"
        }
      ]
    },
    {
      "cell_type": "code",
      "metadata": {
        "id": "qaAizSN9eMwQ"
      },
      "source": [
        "caminho_base = \"/content/drive/MyDrive/data_400X/SOB/400X\""
      ],
      "execution_count": 3,
      "outputs": []
    },
    {
      "cell_type": "code",
      "metadata": {
        "id": "dJPwzwGuf4la"
      },
      "source": [
        "lista_imgs_b = glob(r\"/content/drive/MyDrive/data_400X/SOB/400X/benign/*.png\")\n",
        "lista_imgs_m = glob(r\"/content/drive/MyDrive/data_400X/SOB/400X/malignant/*.png\")\n",
        "\n",
        "lista_imgs_b = shuffle(lista_imgs_b, random_state = 42)\n",
        "lista_imgs_m = shuffle(lista_imgs_m, random_state=42)"
      ],
      "execution_count": 7,
      "outputs": []
    },
    {
      "cell_type": "code",
      "metadata": {
        "colab": {
          "base_uri": "https://localhost:8080/"
        },
        "id": "bqRHktgbgQ_x",
        "outputId": "287c17d4-85fc-4d49-e52d-a53d9be2577d"
      },
      "source": [
        "lista_imgs_b[:2]"
      ],
      "execution_count": 25,
      "outputs": [
        {
          "output_type": "execute_result",
          "data": {
            "text/plain": [
              "['/content/drive/MyDrive/data_400X/SOB/400X/benign/SOB_B_TA-14-16184CD-400-022.png',\n",
              " '/content/drive/MyDrive/data_400X/SOB/400X/benign/SOB_B_F-14-23060CD-400-015.png']"
            ]
          },
          "metadata": {
            "tags": []
          },
          "execution_count": 25
        }
      ]
    },
    {
      "cell_type": "code",
      "metadata": {
        "colab": {
          "base_uri": "https://localhost:8080/"
        },
        "id": "zL38WJAggjXk",
        "outputId": "7ffc2160-85bd-42e6-af08-2fec3a70d037"
      },
      "source": [
        "lista_imgs_m[:2]"
      ],
      "execution_count": 11,
      "outputs": [
        {
          "output_type": "execute_result",
          "data": {
            "text/plain": [
              "['/content/drive/MyDrive/data_400X/SOB/400X/malignant/SOB_M_DC-14-9461-400-025.png',\n",
              " '/content/drive/MyDrive/data_400X/SOB/400X/malignant/SOB_M_DC-14-12312-400-024.png']"
            ]
          },
          "metadata": {
            "tags": []
          },
          "execution_count": 11
        }
      ]
    },
    {
      "cell_type": "code",
      "metadata": {
        "id": "D0swrHl3NQ3_"
      },
      "source": [
        ""
      ],
      "execution_count": null,
      "outputs": []
    },
    {
      "cell_type": "markdown",
      "metadata": {
        "id": "wsflN_zbrpM4"
      },
      "source": [
        "## Copiando Imagens para o Google Colab"
      ]
    },
    {
      "cell_type": "code",
      "metadata": {
        "id": "_0v4vBZ4NQ1L"
      },
      "source": [
        "# Criando uma nova pasta/diretório\n",
        "dir_base = 'dir_base'\n",
        "os.mkdir(dir_base)\n",
        "\n",
        "# Dentro da pasta \"dir_base\", haverá a seguinte estrutura:\n",
        "\n",
        "# dir_treino\n",
        "    # a_benigno\n",
        "    # b_maligno\n",
        "\n",
        "# dir_teste\n",
        "    # a_benigno\n",
        "    # b_maligno\n",
        "\n",
        "\n",
        "# Criando a pasta \"dir_treino\"\n",
        "dir_treino = os.path.join(dir_base, 'dir_treino')\n",
        "os.mkdir(dir_treino)\n",
        "\n",
        "# Criando a pasta \"dir_teste\"\n",
        "dir_teste = os.path.join(dir_base, 'dir_teste')\n",
        "os.mkdir(dir_teste)\n",
        "\n",
        "\n",
        "# Criando as pastas que ficarão dentro das pastas \"dir_treino\" e \"dir_teste\"\n",
        "# Dentro dessas pastas estarão as imagens correspondentes a cada um dos labels\n",
        "\n",
        "# Crindo pastas dentro de \"dir_treino\"\n",
        "benigno = os.path.join(dir_treino, 'a_benigno')\n",
        "os.mkdir(benigno)\n",
        "maligno = os.path.join(dir_treino, 'b_maligno')\n",
        "os.mkdir(maligno)\n",
        "\n",
        "# Criando pastas dentro de \"dir_teste\"\n",
        "benigno = os.path.join(dir_teste, 'a_benigno')\n",
        "os.mkdir(benigno)\n",
        "maligno = os.path.join(dir_teste, 'b_maligno')\n",
        "os.mkdir(maligno)"
      ],
      "execution_count": 26,
      "outputs": []
    },
    {
      "cell_type": "code",
      "metadata": {
        "colab": {
          "base_uri": "https://localhost:8080/"
        },
        "id": "gNvuuY3bQVj6",
        "outputId": "e2834b59-1a4e-4170-8c91-73d91786a190"
      },
      "source": [
        "# Checando as pastas no diretório base\n",
        "os.listdir('dir_base')"
      ],
      "execution_count": 31,
      "outputs": [
        {
          "output_type": "execute_result",
          "data": {
            "text/plain": [
              "['dir_teste', 'dir_treino']"
            ]
          },
          "metadata": {
            "tags": []
          },
          "execution_count": 31
        }
      ]
    },
    {
      "cell_type": "code",
      "metadata": {
        "colab": {
          "base_uri": "https://localhost:8080/"
        },
        "id": "zoCqJ3F7QLbo",
        "outputId": "e6d2b2a2-6cb2-43e7-8ef6-af024e904432"
      },
      "source": [
        "# Checando as pastas no diretório de treino\n",
        "os.listdir('dir_base/dir_treino')"
      ],
      "execution_count": 32,
      "outputs": [
        {
          "output_type": "execute_result",
          "data": {
            "text/plain": [
              "['b_maligno', 'a_benigno']"
            ]
          },
          "metadata": {
            "tags": []
          },
          "execution_count": 32
        }
      ]
    },
    {
      "cell_type": "code",
      "metadata": {
        "colab": {
          "base_uri": "https://localhost:8080/"
        },
        "id": "pYApGwkKQOqd",
        "outputId": "7278417c-38df-4c5b-fe2b-08a9dba4bc25"
      },
      "source": [
        "# Checando as pastas no diretório de teste\n",
        "os.listdir('dir_base/dir_teste')"
      ],
      "execution_count": 33,
      "outputs": [
        {
          "output_type": "execute_result",
          "data": {
            "text/plain": [
              "['b_maligno', 'a_benigno']"
            ]
          },
          "metadata": {
            "tags": []
          },
          "execution_count": 33
        }
      ]
    },
    {
      "cell_type": "code",
      "metadata": {
        "id": "ROCtO-CLQc7n"
      },
      "source": [
        "num_amostras_b = int(np.ceil(len(lista_imgs_b)*0.25))       # 147\n",
        "num_amostras_m = int(np.ceil(len(lista_imgs_m)*0.25))       # 308\n",
        "\n",
        "# Mudando as imagens de pasta\n",
        "for count, image in enumerate(lista_imgs_b):\n",
        "    \n",
        "    # Da imagem 0 - 146 (147 amostras): salvar na pasta /content/dir_base/dir_teste/a_benigno\n",
        "    # Da imagem 147 - 588 (441 amostras): salvar na pasta /content/dir_base/dir_treino/a_benigno\n",
        "    \n",
        "    if count < num_amostras_b:\n",
        "        dir = '/content/dir_base/dir_teste/a_benigno'\n",
        "    else:\n",
        "        dir = '/content/dir_base/dir_treino/a_benigno'\n",
        "\n",
        "\n",
        "    src = image                                         # Define o caminho de origem\n",
        "    dst = os.path.join(dir, image.split('/')[-1])       # Define o caminho de destino\n",
        "    \n",
        "    shutil.copyfile(src, dst)                   # Copia a imagem de uma pasta para outra\n",
        "\n",
        "\n",
        "# Mesmo processo, mas para as imagens de Teste\n",
        "\n",
        "for count, image in enumerate(lista_imgs_m):\n",
        "    \n",
        "    # Da imagem 0 - 307 (308 amostras): salvar na pasta /content/dir_base/dir_teste/b_maligno\n",
        "    # Da imagem 308 - 1232 (924 amostras): salvar na pasta /content/dir_base/dir_treino/b_maligno\n",
        "    \n",
        "    if count < num_amostras_m:\n",
        "        dir = '/content/dir_base/dir_teste/b_maligno'\n",
        "    else:\n",
        "        dir = '/content/dir_base/dir_treino/b_maligno'\n",
        "\n",
        "\n",
        "    src = image                                         # Define o caminho de origem\n",
        "    dst = os.path.join(dir, image.split('/')[-1])       # Define o caminho de destino\n",
        "    \n",
        "    shutil.copyfile(src, dst)                   # Copia a imagem de uma pasta para outra"
      ],
      "execution_count": 57,
      "outputs": []
    },
    {
      "cell_type": "code",
      "metadata": {
        "colab": {
          "base_uri": "https://localhost:8080/"
        },
        "id": "5IsaouiSQYRx",
        "outputId": "b2fdb963-2b2b-4213-8beb-09aa37490411"
      },
      "source": [
        "print(\"Quantidade de Amostras Benignas de Treino:\",\n",
        "      len(os.listdir('/content/dir_base/dir_treino/a_benigno')))\n",
        "\n",
        "print(\"Quantidade de Amostras Benignas de Teste:\",\n",
        "      len(os.listdir('/content/dir_base/dir_teste/a_benigno')))\n",
        "\n",
        "print(\"Quantidade de Amostras Malignas de Treino:\",\n",
        "      len(os.listdir('/content/dir_base/dir_treino/b_maligno')))\n",
        "\n",
        "print(\"Quantidade de Amostras Malignas de Teste:\",\n",
        "      len(os.listdir('/content/dir_base/dir_teste/b_maligno')))"
      ],
      "execution_count": 58,
      "outputs": [
        {
          "output_type": "stream",
          "text": [
            "Quantidade de Amostras Benignas de Treino: 441\n",
            "Quantidade de Amostras Benignas de Teste: 147\n",
            "Quantidade de Amostras Malignas de Treino: 924\n",
            "Quantidade de Amostras Malignas de Teste: 308\n"
          ],
          "name": "stdout"
        }
      ]
    },
    {
      "cell_type": "code",
      "metadata": {
        "id": "dATiaWJMQa8J"
      },
      "source": [
        ""
      ],
      "execution_count": null,
      "outputs": []
    },
    {
      "cell_type": "markdown",
      "metadata": {
        "id": "5PqGMP9mrkex"
      },
      "source": [
        "## Criação do ImageDataGenerator"
      ]
    },
    {
      "cell_type": "code",
      "metadata": {
        "id": "n4hboIB0cBdP"
      },
      "source": [
        "BATCH_SIZE = 32\n",
        "TAMANHO_IMAGEM = 96\n",
        "train_path = '/content/dir_base/dir_treino'     # Caminho das imagens de treino\n",
        "test_path = '/content/dir_base/dir_teste'       # Caminho das imagens de teste\n",
        "\n",
        "num_amostras_treino = len(os.listdir('/content/dir_base/dir_treino/a_benigno')) + len(os.listdir('/content/dir_base/dir_teste/a_benigno'))   "
      ],
      "execution_count": 274,
      "outputs": []
    },
    {
      "cell_type": "code",
      "metadata": {
        "id": "kdpwDNXjhV0T"
      },
      "source": [
        "datagen_treino = ImageDataGenerator(preprocessing_function=preprocess_input,\n",
        "                             horizontal_flip=True,\n",
        "                             #vertical_flip=True,\n",
        "                             validation_split=0.2)\n",
        "\n",
        "datagen_val = ImageDataGenerator(preprocessing_function=preprocess_input,\n",
        "                                 validation_split=0.2)\n",
        "\n",
        "datagen_teste = ImageDataGenerator(preprocessing_function=preprocess_input)"
      ],
      "execution_count": 275,
      "outputs": []
    },
    {
      "cell_type": "code",
      "metadata": {
        "colab": {
          "base_uri": "https://localhost:8080/"
        },
        "id": "mH04Etn7lxBx",
        "outputId": "26b6b725-713f-4fc2-f442-1e245aa0af3f"
      },
      "source": [
        "gen_treino = datagen_treino.flow_from_directory(\n",
        "            train_path,\n",
        "            target_size=(TAMANHO_IMAGEM, TAMANHO_IMAGEM),\n",
        "            batch_size=BATCH_SIZE,\n",
        "            subset=\"training\",\n",
        "            shuffle=False,\n",
        "            class_mode='categorical',\n",
        ")\n",
        "\n",
        "gen_val = datagen_val.flow_from_directory(\n",
        "            train_path,\n",
        "            target_size=(TAMANHO_IMAGEM, TAMANHO_IMAGEM),\n",
        "            batch_size=BATCH_SIZE,\n",
        "            subset=\"validation\",\n",
        "            shuffle=False,\n",
        "            class_mode='categorical',\n",
        ")\n",
        "\n",
        "test_gen = datagen_teste.flow_from_directory(\n",
        "            test_path,\n",
        "            target_size=(TAMANHO_IMAGEM,TAMANHO_IMAGEM),\n",
        "            batch_size=1,               # Teste será gerado imagem a imagem\n",
        "            class_mode='categorical',   \n",
        "            shuffle=False)   "
      ],
      "execution_count": 311,
      "outputs": [
        {
          "output_type": "stream",
          "text": [
            "Found 1093 images belonging to 2 classes.\n",
            "Found 272 images belonging to 2 classes.\n",
            "Found 455 images belonging to 2 classes.\n"
          ],
          "name": "stdout"
        }
      ]
    },
    {
      "cell_type": "code",
      "metadata": {
        "id": "qIgRBKIan7Gl"
      },
      "source": [
        "STEP_SIZE_TREINO = gen_treino.n // gen_treino.batch_size\n",
        "\n",
        "STEP_SIZE_VAL = gen_val.n // gen_val.batch_size"
      ],
      "execution_count": 302,
      "outputs": []
    },
    {
      "cell_type": "code",
      "metadata": {
        "id": "8-gAfU3_o33Y"
      },
      "source": [
        ""
      ],
      "execution_count": null,
      "outputs": []
    },
    {
      "cell_type": "code",
      "metadata": {
        "id": "MpKOWWXwqrFf"
      },
      "source": [
        ""
      ],
      "execution_count": null,
      "outputs": []
    },
    {
      "cell_type": "markdown",
      "metadata": {
        "id": "10XHl4JarhqL"
      },
      "source": [
        "## Construção do Modelo"
      ]
    },
    {
      "cell_type": "code",
      "metadata": {
        "id": "lQd7Zt1M04RD"
      },
      "source": [
        "for i, layer in enumerate(conv_base.layers):\n",
        "    if layer.name.startswith(\"conv5_block1\"):\n",
        "        print(i)\n",
        "        break"
      ],
      "execution_count": 347,
      "outputs": []
    },
    {
      "cell_type": "code",
      "metadata": {
        "colab": {
          "base_uri": "https://localhost:8080/"
        },
        "id": "fd6VgldWo31a",
        "outputId": "97e8ba3f-f435-4a72-811e-ef090c7dbce2"
      },
      "source": [
        "conv_base = ResNet50V2(include_top=False, input_shape=(96,96,3))\n",
        "\n",
        "conv_base = keras.models.Model(conv_base.input, conv_base.layers[85].output)\n",
        "\n",
        "conv_base.summary()"
      ],
      "execution_count": 346,
      "outputs": [
        {
          "output_type": "stream",
          "text": [
            "Model: \"model_26\"\n",
            "__________________________________________________________________________________________________\n",
            "Layer (type)                    Output Shape         Param #     Connected to                     \n",
            "==================================================================================================\n",
            "input_43 (InputLayer)           [(None, 96, 96, 3)]  0                                            \n",
            "__________________________________________________________________________________________________\n",
            "conv1_pad (ZeroPadding2D)       (None, 102, 102, 3)  0           input_43[0][0]                   \n",
            "__________________________________________________________________________________________________\n",
            "conv1_conv (Conv2D)             (None, 48, 48, 64)   9472        conv1_pad[0][0]                  \n",
            "__________________________________________________________________________________________________\n",
            "pool1_pad (ZeroPadding2D)       (None, 50, 50, 64)   0           conv1_conv[0][0]                 \n",
            "__________________________________________________________________________________________________\n",
            "pool1_pool (MaxPooling2D)       (None, 24, 24, 64)   0           pool1_pad[0][0]                  \n",
            "__________________________________________________________________________________________________\n",
            "conv2_block1_preact_bn (BatchNo (None, 24, 24, 64)   256         pool1_pool[0][0]                 \n",
            "__________________________________________________________________________________________________\n",
            "conv2_block1_preact_relu (Activ (None, 24, 24, 64)   0           conv2_block1_preact_bn[0][0]     \n",
            "__________________________________________________________________________________________________\n",
            "conv2_block1_1_conv (Conv2D)    (None, 24, 24, 64)   4096        conv2_block1_preact_relu[0][0]   \n",
            "__________________________________________________________________________________________________\n",
            "conv2_block1_1_bn (BatchNormali (None, 24, 24, 64)   256         conv2_block1_1_conv[0][0]        \n",
            "__________________________________________________________________________________________________\n",
            "conv2_block1_1_relu (Activation (None, 24, 24, 64)   0           conv2_block1_1_bn[0][0]          \n",
            "__________________________________________________________________________________________________\n",
            "conv2_block1_2_pad (ZeroPadding (None, 26, 26, 64)   0           conv2_block1_1_relu[0][0]        \n",
            "__________________________________________________________________________________________________\n",
            "conv2_block1_2_conv (Conv2D)    (None, 24, 24, 64)   36864       conv2_block1_2_pad[0][0]         \n",
            "__________________________________________________________________________________________________\n",
            "conv2_block1_2_bn (BatchNormali (None, 24, 24, 64)   256         conv2_block1_2_conv[0][0]        \n",
            "__________________________________________________________________________________________________\n",
            "conv2_block1_2_relu (Activation (None, 24, 24, 64)   0           conv2_block1_2_bn[0][0]          \n",
            "__________________________________________________________________________________________________\n",
            "conv2_block1_0_conv (Conv2D)    (None, 24, 24, 256)  16640       conv2_block1_preact_relu[0][0]   \n",
            "__________________________________________________________________________________________________\n",
            "conv2_block1_3_conv (Conv2D)    (None, 24, 24, 256)  16640       conv2_block1_2_relu[0][0]        \n",
            "__________________________________________________________________________________________________\n",
            "conv2_block1_out (Add)          (None, 24, 24, 256)  0           conv2_block1_0_conv[0][0]        \n",
            "                                                                 conv2_block1_3_conv[0][0]        \n",
            "__________________________________________________________________________________________________\n",
            "conv2_block2_preact_bn (BatchNo (None, 24, 24, 256)  1024        conv2_block1_out[0][0]           \n",
            "__________________________________________________________________________________________________\n",
            "conv2_block2_preact_relu (Activ (None, 24, 24, 256)  0           conv2_block2_preact_bn[0][0]     \n",
            "__________________________________________________________________________________________________\n",
            "conv2_block2_1_conv (Conv2D)    (None, 24, 24, 64)   16384       conv2_block2_preact_relu[0][0]   \n",
            "__________________________________________________________________________________________________\n",
            "conv2_block2_1_bn (BatchNormali (None, 24, 24, 64)   256         conv2_block2_1_conv[0][0]        \n",
            "__________________________________________________________________________________________________\n",
            "conv2_block2_1_relu (Activation (None, 24, 24, 64)   0           conv2_block2_1_bn[0][0]          \n",
            "__________________________________________________________________________________________________\n",
            "conv2_block2_2_pad (ZeroPadding (None, 26, 26, 64)   0           conv2_block2_1_relu[0][0]        \n",
            "__________________________________________________________________________________________________\n",
            "conv2_block2_2_conv (Conv2D)    (None, 24, 24, 64)   36864       conv2_block2_2_pad[0][0]         \n",
            "__________________________________________________________________________________________________\n",
            "conv2_block2_2_bn (BatchNormali (None, 24, 24, 64)   256         conv2_block2_2_conv[0][0]        \n",
            "__________________________________________________________________________________________________\n",
            "conv2_block2_2_relu (Activation (None, 24, 24, 64)   0           conv2_block2_2_bn[0][0]          \n",
            "__________________________________________________________________________________________________\n",
            "conv2_block2_3_conv (Conv2D)    (None, 24, 24, 256)  16640       conv2_block2_2_relu[0][0]        \n",
            "__________________________________________________________________________________________________\n",
            "conv2_block2_out (Add)          (None, 24, 24, 256)  0           conv2_block1_out[0][0]           \n",
            "                                                                 conv2_block2_3_conv[0][0]        \n",
            "__________________________________________________________________________________________________\n",
            "conv2_block3_preact_bn (BatchNo (None, 24, 24, 256)  1024        conv2_block2_out[0][0]           \n",
            "__________________________________________________________________________________________________\n",
            "conv2_block3_preact_relu (Activ (None, 24, 24, 256)  0           conv2_block3_preact_bn[0][0]     \n",
            "__________________________________________________________________________________________________\n",
            "conv2_block3_1_conv (Conv2D)    (None, 24, 24, 64)   16384       conv2_block3_preact_relu[0][0]   \n",
            "__________________________________________________________________________________________________\n",
            "conv2_block3_1_bn (BatchNormali (None, 24, 24, 64)   256         conv2_block3_1_conv[0][0]        \n",
            "__________________________________________________________________________________________________\n",
            "conv2_block3_1_relu (Activation (None, 24, 24, 64)   0           conv2_block3_1_bn[0][0]          \n",
            "__________________________________________________________________________________________________\n",
            "conv2_block3_2_pad (ZeroPadding (None, 26, 26, 64)   0           conv2_block3_1_relu[0][0]        \n",
            "__________________________________________________________________________________________________\n",
            "conv2_block3_2_conv (Conv2D)    (None, 12, 12, 64)   36864       conv2_block3_2_pad[0][0]         \n",
            "__________________________________________________________________________________________________\n",
            "conv2_block3_2_bn (BatchNormali (None, 12, 12, 64)   256         conv2_block3_2_conv[0][0]        \n",
            "__________________________________________________________________________________________________\n",
            "conv2_block3_2_relu (Activation (None, 12, 12, 64)   0           conv2_block3_2_bn[0][0]          \n",
            "__________________________________________________________________________________________________\n",
            "max_pooling2d_18 (MaxPooling2D) (None, 12, 12, 256)  0           conv2_block2_out[0][0]           \n",
            "__________________________________________________________________________________________________\n",
            "conv2_block3_3_conv (Conv2D)    (None, 12, 12, 256)  16640       conv2_block3_2_relu[0][0]        \n",
            "__________________________________________________________________________________________________\n",
            "conv2_block3_out (Add)          (None, 12, 12, 256)  0           max_pooling2d_18[0][0]           \n",
            "                                                                 conv2_block3_3_conv[0][0]        \n",
            "__________________________________________________________________________________________________\n",
            "conv3_block1_preact_bn (BatchNo (None, 12, 12, 256)  1024        conv2_block3_out[0][0]           \n",
            "__________________________________________________________________________________________________\n",
            "conv3_block1_preact_relu (Activ (None, 12, 12, 256)  0           conv3_block1_preact_bn[0][0]     \n",
            "__________________________________________________________________________________________________\n",
            "conv3_block1_1_conv (Conv2D)    (None, 12, 12, 128)  32768       conv3_block1_preact_relu[0][0]   \n",
            "__________________________________________________________________________________________________\n",
            "conv3_block1_1_bn (BatchNormali (None, 12, 12, 128)  512         conv3_block1_1_conv[0][0]        \n",
            "__________________________________________________________________________________________________\n",
            "conv3_block1_1_relu (Activation (None, 12, 12, 128)  0           conv3_block1_1_bn[0][0]          \n",
            "__________________________________________________________________________________________________\n",
            "conv3_block1_2_pad (ZeroPadding (None, 14, 14, 128)  0           conv3_block1_1_relu[0][0]        \n",
            "__________________________________________________________________________________________________\n",
            "conv3_block1_2_conv (Conv2D)    (None, 12, 12, 128)  147456      conv3_block1_2_pad[0][0]         \n",
            "__________________________________________________________________________________________________\n",
            "conv3_block1_2_bn (BatchNormali (None, 12, 12, 128)  512         conv3_block1_2_conv[0][0]        \n",
            "__________________________________________________________________________________________________\n",
            "conv3_block1_2_relu (Activation (None, 12, 12, 128)  0           conv3_block1_2_bn[0][0]          \n",
            "__________________________________________________________________________________________________\n",
            "conv3_block1_0_conv (Conv2D)    (None, 12, 12, 512)  131584      conv3_block1_preact_relu[0][0]   \n",
            "__________________________________________________________________________________________________\n",
            "conv3_block1_3_conv (Conv2D)    (None, 12, 12, 512)  66048       conv3_block1_2_relu[0][0]        \n",
            "__________________________________________________________________________________________________\n",
            "conv3_block1_out (Add)          (None, 12, 12, 512)  0           conv3_block1_0_conv[0][0]        \n",
            "                                                                 conv3_block1_3_conv[0][0]        \n",
            "__________________________________________________________________________________________________\n",
            "conv3_block2_preact_bn (BatchNo (None, 12, 12, 512)  2048        conv3_block1_out[0][0]           \n",
            "__________________________________________________________________________________________________\n",
            "conv3_block2_preact_relu (Activ (None, 12, 12, 512)  0           conv3_block2_preact_bn[0][0]     \n",
            "__________________________________________________________________________________________________\n",
            "conv3_block2_1_conv (Conv2D)    (None, 12, 12, 128)  65536       conv3_block2_preact_relu[0][0]   \n",
            "__________________________________________________________________________________________________\n",
            "conv3_block2_1_bn (BatchNormali (None, 12, 12, 128)  512         conv3_block2_1_conv[0][0]        \n",
            "__________________________________________________________________________________________________\n",
            "conv3_block2_1_relu (Activation (None, 12, 12, 128)  0           conv3_block2_1_bn[0][0]          \n",
            "__________________________________________________________________________________________________\n",
            "conv3_block2_2_pad (ZeroPadding (None, 14, 14, 128)  0           conv3_block2_1_relu[0][0]        \n",
            "__________________________________________________________________________________________________\n",
            "conv3_block2_2_conv (Conv2D)    (None, 12, 12, 128)  147456      conv3_block2_2_pad[0][0]         \n",
            "__________________________________________________________________________________________________\n",
            "conv3_block2_2_bn (BatchNormali (None, 12, 12, 128)  512         conv3_block2_2_conv[0][0]        \n",
            "__________________________________________________________________________________________________\n",
            "conv3_block2_2_relu (Activation (None, 12, 12, 128)  0           conv3_block2_2_bn[0][0]          \n",
            "__________________________________________________________________________________________________\n",
            "conv3_block2_3_conv (Conv2D)    (None, 12, 12, 512)  66048       conv3_block2_2_relu[0][0]        \n",
            "__________________________________________________________________________________________________\n",
            "conv3_block2_out (Add)          (None, 12, 12, 512)  0           conv3_block1_out[0][0]           \n",
            "                                                                 conv3_block2_3_conv[0][0]        \n",
            "__________________________________________________________________________________________________\n",
            "conv3_block3_preact_bn (BatchNo (None, 12, 12, 512)  2048        conv3_block2_out[0][0]           \n",
            "__________________________________________________________________________________________________\n",
            "conv3_block3_preact_relu (Activ (None, 12, 12, 512)  0           conv3_block3_preact_bn[0][0]     \n",
            "__________________________________________________________________________________________________\n",
            "conv3_block3_1_conv (Conv2D)    (None, 12, 12, 128)  65536       conv3_block3_preact_relu[0][0]   \n",
            "__________________________________________________________________________________________________\n",
            "conv3_block3_1_bn (BatchNormali (None, 12, 12, 128)  512         conv3_block3_1_conv[0][0]        \n",
            "__________________________________________________________________________________________________\n",
            "conv3_block3_1_relu (Activation (None, 12, 12, 128)  0           conv3_block3_1_bn[0][0]          \n",
            "__________________________________________________________________________________________________\n",
            "conv3_block3_2_pad (ZeroPadding (None, 14, 14, 128)  0           conv3_block3_1_relu[0][0]        \n",
            "__________________________________________________________________________________________________\n",
            "conv3_block3_2_conv (Conv2D)    (None, 12, 12, 128)  147456      conv3_block3_2_pad[0][0]         \n",
            "__________________________________________________________________________________________________\n",
            "conv3_block3_2_bn (BatchNormali (None, 12, 12, 128)  512         conv3_block3_2_conv[0][0]        \n",
            "__________________________________________________________________________________________________\n",
            "conv3_block3_2_relu (Activation (None, 12, 12, 128)  0           conv3_block3_2_bn[0][0]          \n",
            "__________________________________________________________________________________________________\n",
            "conv3_block3_3_conv (Conv2D)    (None, 12, 12, 512)  66048       conv3_block3_2_relu[0][0]        \n",
            "__________________________________________________________________________________________________\n",
            "conv3_block3_out (Add)          (None, 12, 12, 512)  0           conv3_block2_out[0][0]           \n",
            "                                                                 conv3_block3_3_conv[0][0]        \n",
            "__________________________________________________________________________________________________\n",
            "conv3_block4_preact_bn (BatchNo (None, 12, 12, 512)  2048        conv3_block3_out[0][0]           \n",
            "__________________________________________________________________________________________________\n",
            "conv3_block4_preact_relu (Activ (None, 12, 12, 512)  0           conv3_block4_preact_bn[0][0]     \n",
            "__________________________________________________________________________________________________\n",
            "conv3_block4_1_conv (Conv2D)    (None, 12, 12, 128)  65536       conv3_block4_preact_relu[0][0]   \n",
            "__________________________________________________________________________________________________\n",
            "conv3_block4_1_bn (BatchNormali (None, 12, 12, 128)  512         conv3_block4_1_conv[0][0]        \n",
            "__________________________________________________________________________________________________\n",
            "conv3_block4_1_relu (Activation (None, 12, 12, 128)  0           conv3_block4_1_bn[0][0]          \n",
            "__________________________________________________________________________________________________\n",
            "conv3_block4_2_pad (ZeroPadding (None, 14, 14, 128)  0           conv3_block4_1_relu[0][0]        \n",
            "__________________________________________________________________________________________________\n",
            "conv3_block4_2_conv (Conv2D)    (None, 6, 6, 128)    147456      conv3_block4_2_pad[0][0]         \n",
            "__________________________________________________________________________________________________\n",
            "conv3_block4_2_bn (BatchNormali (None, 6, 6, 128)    512         conv3_block4_2_conv[0][0]        \n",
            "__________________________________________________________________________________________________\n",
            "conv3_block4_2_relu (Activation (None, 6, 6, 128)    0           conv3_block4_2_bn[0][0]          \n",
            "__________________________________________________________________________________________________\n",
            "max_pooling2d_19 (MaxPooling2D) (None, 6, 6, 512)    0           conv3_block3_out[0][0]           \n",
            "__________________________________________________________________________________________________\n",
            "conv3_block4_3_conv (Conv2D)    (None, 6, 6, 512)    66048       conv3_block4_2_relu[0][0]        \n",
            "__________________________________________________________________________________________________\n",
            "conv3_block4_out (Add)          (None, 6, 6, 512)    0           max_pooling2d_19[0][0]           \n",
            "                                                                 conv3_block4_3_conv[0][0]        \n",
            "==================================================================================================\n",
            "Total params: 1,453,568\n",
            "Trainable params: 1,446,016\n",
            "Non-trainable params: 7,552\n",
            "__________________________________________________________________________________________________\n"
          ],
          "name": "stdout"
        }
      ]
    },
    {
      "cell_type": "code",
      "metadata": {
        "id": "6rVE9MBy5TgL"
      },
      "source": [
        ""
      ],
      "execution_count": null,
      "outputs": []
    },
    {
      "cell_type": "code",
      "metadata": {
        "id": "52kZR1pLqciK"
      },
      "source": [
        "\"\"\"model = Sequential()\n",
        "model.add(conv_base)\n",
        "\n",
        "#model.add(Flatten())\n",
        "model.add(GlobalAveragePooling2D())\n",
        "model.add(BatchNormalization())\n",
        "\n",
        "#model.add(Dropout(.1))\n",
        "\n",
        "#model.add(Dense(32))\n",
        "#model.add(ReLU())\n",
        "#model.add(Dropout(.3))\n",
        "\n",
        "model.add(Dense(2, activation='softmax'))\"\"\""
      ],
      "execution_count": 317,
      "outputs": []
    },
    {
      "cell_type": "code",
      "metadata": {
        "id": "rKAKIn-aFXxE"
      },
      "source": [
        "from keras.layers import Dense, Input, Dropout, MaxPooling2D, Concatenate, GlobalMaxPooling2D, GlobalAveragePooling2D, \\\n",
        "    Lambda, Multiply, LSTM, Bidirectional, PReLU, MaxPooling1D"
      ],
      "execution_count": 348,
      "outputs": []
    },
    {
      "cell_type": "code",
      "metadata": {
        "id": "BZwG-hoXFTFU"
      },
      "source": [
        "inputs = Input((96, 96, 3))\n",
        "base_model = conv_base\n",
        "x = base_model(inputs)\n",
        "out1 = GlobalMaxPooling2D()(x)\n",
        "out2 = GlobalAveragePooling2D()(x)\n",
        "out3 = Flatten()(x)\n",
        "\n",
        "out = Concatenate(axis=-1)([out1, out2, out3])\n",
        "out = Dropout(0.3)(out)\n",
        "out = Dense(2, activation='softmax')(out)\n",
        "\n",
        "model = keras.models.Model(inputs, out)"
      ],
      "execution_count": 350,
      "outputs": []
    },
    {
      "cell_type": "code",
      "metadata": {
        "colab": {
          "base_uri": "https://localhost:8080/"
        },
        "id": "qjribJno2UE0",
        "outputId": "d1d7adec-6a24-4b35-a905-7bd7fe48d6e0"
      },
      "source": [
        "model.summary()"
      ],
      "execution_count": 351,
      "outputs": [
        {
          "output_type": "stream",
          "text": [
            "Model: \"model_28\"\n",
            "__________________________________________________________________________________________________\n",
            "Layer (type)                    Output Shape         Param #     Connected to                     \n",
            "==================================================================================================\n",
            "input_45 (InputLayer)           [(None, 96, 96, 3)]  0                                            \n",
            "__________________________________________________________________________________________________\n",
            "model_26 (Functional)           (None, 6, 6, 512)    1453568     input_45[0][0]                   \n",
            "__________________________________________________________________________________________________\n",
            "global_max_pooling2d_4 (GlobalM (None, 512)          0           model_26[1][0]                   \n",
            "__________________________________________________________________________________________________\n",
            "global_average_pooling2d_32 (Gl (None, 512)          0           model_26[1][0]                   \n",
            "__________________________________________________________________________________________________\n",
            "flatten_6 (Flatten)             (None, 18432)        0           model_26[1][0]                   \n",
            "__________________________________________________________________________________________________\n",
            "concatenate_16 (Concatenate)    (None, 19456)        0           global_max_pooling2d_4[0][0]     \n",
            "                                                                 global_average_pooling2d_32[0][0]\n",
            "                                                                 flatten_6[0][0]                  \n",
            "__________________________________________________________________________________________________\n",
            "dropout_48 (Dropout)            (None, 19456)        0           concatenate_16[0][0]             \n",
            "__________________________________________________________________________________________________\n",
            "dense_56 (Dense)                (None, 2)            38914       dropout_48[0][0]                 \n",
            "==================================================================================================\n",
            "Total params: 1,492,482\n",
            "Trainable params: 1,484,930\n",
            "Non-trainable params: 7,552\n",
            "__________________________________________________________________________________________________\n"
          ],
          "name": "stdout"
        }
      ]
    },
    {
      "cell_type": "code",
      "metadata": {
        "id": "pweBXRoq6rNB"
      },
      "source": [
        "#conv_base.trainable = False"
      ],
      "execution_count": 334,
      "outputs": []
    },
    {
      "cell_type": "code",
      "metadata": {
        "id": "Te24T3Yiqcfo"
      },
      "source": [
        "conv_base.trainable = True\n",
        "\n",
        "flag = False\n",
        "set_trainable = False\n",
        "\n",
        "for layer in conv_base.layers:\n",
        "    if layer.name.startswith('conv3'):\n",
        "        flag = True\n",
        "    if flag:\n",
        "        if layer.__class__.__name__ == \"BatchNormalization\":\n",
        "            layer.trainable = False\n",
        "            continue\n",
        "        else:\n",
        "            layer.trainable = True\n",
        "    else:\n",
        "        layer.trainable = False"
      ],
      "execution_count": 352,
      "outputs": []
    },
    {
      "cell_type": "code",
      "metadata": {
        "colab": {
          "base_uri": "https://localhost:8080/"
        },
        "id": "ngp5CisC2WxR",
        "outputId": "e7bb5f63-72aa-439c-9594-0c15a165c3a1"
      },
      "source": [
        "model.summary()"
      ],
      "execution_count": 353,
      "outputs": [
        {
          "output_type": "stream",
          "text": [
            "Model: \"model_28\"\n",
            "__________________________________________________________________________________________________\n",
            "Layer (type)                    Output Shape         Param #     Connected to                     \n",
            "==================================================================================================\n",
            "input_45 (InputLayer)           [(None, 96, 96, 3)]  0                                            \n",
            "__________________________________________________________________________________________________\n",
            "model_26 (Functional)           (None, 6, 6, 512)    1453568     input_45[0][0]                   \n",
            "__________________________________________________________________________________________________\n",
            "global_max_pooling2d_4 (GlobalM (None, 512)          0           model_26[1][0]                   \n",
            "__________________________________________________________________________________________________\n",
            "global_average_pooling2d_32 (Gl (None, 512)          0           model_26[1][0]                   \n",
            "__________________________________________________________________________________________________\n",
            "flatten_6 (Flatten)             (None, 18432)        0           model_26[1][0]                   \n",
            "__________________________________________________________________________________________________\n",
            "concatenate_16 (Concatenate)    (None, 19456)        0           global_max_pooling2d_4[0][0]     \n",
            "                                                                 global_average_pooling2d_32[0][0]\n",
            "                                                                 flatten_6[0][0]                  \n",
            "__________________________________________________________________________________________________\n",
            "dropout_48 (Dropout)            (None, 19456)        0           concatenate_16[0][0]             \n",
            "__________________________________________________________________________________________________\n",
            "dense_56 (Dense)                (None, 2)            38914       dropout_48[0][0]                 \n",
            "==================================================================================================\n",
            "Total params: 1,492,482\n",
            "Trainable params: 1,253,890\n",
            "Non-trainable params: 238,592\n",
            "__________________________________________________________________________________________________\n"
          ],
          "name": "stdout"
        }
      ]
    },
    {
      "cell_type": "code",
      "metadata": {
        "id": "kKxrIy5Jq23_"
      },
      "source": [
        "model.compile(Adam(lr=0.0001), loss='binary_crossentropy', \n",
        "              metrics=['accuracy', tf.keras.metrics.AUC(), tf.keras.metrics.Recall()])"
      ],
      "execution_count": 354,
      "outputs": []
    },
    {
      "cell_type": "code",
      "metadata": {
        "colab": {
          "base_uri": "https://localhost:8080/"
        },
        "id": "s7pZtMBLqcdM",
        "outputId": "440a5459-3623-4827-bc36-cd55164ccdd5"
      },
      "source": [
        "print(gen_treino.class_indices)\n",
        "print(gen_val.class_indices)"
      ],
      "execution_count": 355,
      "outputs": [
        {
          "output_type": "stream",
          "text": [
            "{'a_benigno': 0, 'b_maligno': 1}\n",
            "{'a_benigno': 0, 'b_maligno': 1}\n"
          ],
          "name": "stdout"
        }
      ]
    },
    {
      "cell_type": "code",
      "metadata": {
        "id": "N5TE3224q9cb"
      },
      "source": [
        "filepath = \"content/model.h5\"\n",
        "reduce_lr = ReduceLROnPlateau(monitor='val_loss', factor=0.5, patience=2, \n",
        "                              verbose=1, mode='max', min_lr=0.000001)\n",
        "checkpoint = ModelCheckpoint(filepath, monitor='val_accuracy', verbose=1, \n",
        "                             save_best_only=True, mode='max')\n",
        "early_stop = EarlyStopping(monitor='val_loss', patience=5)"
      ],
      "execution_count": 356,
      "outputs": []
    },
    {
      "cell_type": "code",
      "metadata": {
        "colab": {
          "base_uri": "https://localhost:8080/"
        },
        "id": "89fq-QpHq-2B",
        "outputId": "3aa0a023-9d4d-4bf5-90c9-6137ad9bcf87"
      },
      "source": [
        "history = model.fit(gen_treino, steps_per_epoch=STEP_SIZE_TREINO, \n",
        "                              validation_data=gen_val,\n",
        "                              validation_steps=STEP_SIZE_VAL,\n",
        "                              epochs=40, verbose=1,\n",
        "                              callbacks=[reduce_lr, checkpoint, early_stop])"
      ],
      "execution_count": 357,
      "outputs": [
        {
          "output_type": "stream",
          "text": [
            "Epoch 1/40\n",
            "34/34 [==============================] - 39s 1s/step - loss: 1.9557 - accuracy: 0.6466 - auc_20: 0.6827 - recall_20: 0.6466 - val_loss: 0.9603 - val_accuracy: 0.4844 - val_auc_20: 0.5533 - val_recall_20: 0.4844\n",
            "\n",
            "Epoch 00001: val_accuracy improved from -inf to 0.48438, saving model to content/model.h5\n",
            "Epoch 2/40\n",
            "34/34 [==============================] - 35s 1s/step - loss: 0.8352 - accuracy: 0.6631 - auc_20: 0.7219 - recall_20: 0.6631 - val_loss: 0.5159 - val_accuracy: 0.7617 - val_auc_20: 0.8588 - val_recall_20: 0.7617\n",
            "\n",
            "Epoch 00002: val_accuracy improved from 0.48438 to 0.76172, saving model to content/model.h5\n",
            "Epoch 3/40\n",
            "34/34 [==============================] - 35s 1s/step - loss: 0.5940 - accuracy: 0.8257 - auc_20: 0.8519 - recall_20: 0.8257 - val_loss: 0.5504 - val_accuracy: 0.7461 - val_auc_20: 0.8273 - val_recall_20: 0.7461\n",
            "\n",
            "Epoch 00003: ReduceLROnPlateau reducing learning rate to 4.999999873689376e-05.\n",
            "\n",
            "Epoch 00003: val_accuracy did not improve from 0.76172\n",
            "Epoch 4/40\n",
            "34/34 [==============================] - 35s 1s/step - loss: 0.5533 - accuracy: 0.7995 - auc_20: 0.8549 - recall_20: 0.7995 - val_loss: 0.5400 - val_accuracy: 0.7734 - val_auc_20: 0.8382 - val_recall_20: 0.7734\n",
            "\n",
            "Epoch 00004: val_accuracy improved from 0.76172 to 0.77344, saving model to content/model.h5\n",
            "Epoch 5/40\n",
            "34/34 [==============================] - 35s 1s/step - loss: 0.4725 - accuracy: 0.8232 - auc_20: 0.8865 - recall_20: 0.8232 - val_loss: 0.6054 - val_accuracy: 0.7461 - val_auc_20: 0.8196 - val_recall_20: 0.7461\n",
            "\n",
            "Epoch 00005: ReduceLROnPlateau reducing learning rate to 2.499999936844688e-05.\n",
            "\n",
            "Epoch 00005: val_accuracy did not improve from 0.77344\n",
            "Epoch 6/40\n",
            "34/34 [==============================] - 35s 1s/step - loss: 0.4081 - accuracy: 0.8304 - auc_20: 0.9162 - recall_20: 0.8304 - val_loss: 0.5422 - val_accuracy: 0.7617 - val_auc_20: 0.8360 - val_recall_20: 0.7617\n",
            "\n",
            "Epoch 00006: val_accuracy did not improve from 0.77344\n",
            "Epoch 7/40\n",
            "34/34 [==============================] - 35s 1s/step - loss: 0.4543 - accuracy: 0.8420 - auc_20: 0.9022 - recall_20: 0.8420 - val_loss: 0.5969 - val_accuracy: 0.7422 - val_auc_20: 0.8137 - val_recall_20: 0.7422\n",
            "\n",
            "Epoch 00007: ReduceLROnPlateau reducing learning rate to 1.249999968422344e-05.\n",
            "\n",
            "Epoch 00007: val_accuracy did not improve from 0.77344\n"
          ],
          "name": "stdout"
        }
      ]
    },
    {
      "cell_type": "code",
      "metadata": {
        "colab": {
          "base_uri": "https://localhost:8080/",
          "height": 285
        },
        "id": "1Qpj8gClq-y8",
        "outputId": "eed81228-b0e4-4a25-b4b4-782d8985dc4a"
      },
      "source": [
        "epochs = range(1, len(history.history['loss'])+1)\n",
        "training_loss = history.history['loss']\n",
        "validation_loss = history.history['val_loss']\n",
        "\n",
        "\n",
        "# b+ is for \"blue cross\"\n",
        "plt.plot(epochs, training_loss, color='royalblue', label='Training Loss')\n",
        "# \"bo\" is for \"blue dot\"\n",
        "plt.plot(epochs, validation_loss, color='indianred', label='Validation Loss')\n",
        "plt.xlabel('Epochs')\n",
        "plt.ylabel('Loss')\n",
        "plt.legend()\n",
        "\n",
        "plt.show()"
      ],
      "execution_count": 114,
      "outputs": [
        {
          "output_type": "display_data",
          "data": {
            "image/png": "[encoded data removed]",
            "text/plain": [
              "<Figure size 432x288 with 1 Axes>"
            ]
          },
          "metadata": {
            "tags": []
          }
        }
      ]
    },
    {
      "cell_type": "code",
      "metadata": {
        "colab": {
          "base_uri": "https://localhost:8080/",
          "height": 285
        },
        "id": "sxhsK7OrrVk7",
        "outputId": "6207a10d-3075-4e9f-9593-b8ccf0d5b42c"
      },
      "source": [
        "epochs = range(1, len(history.history['loss'])+1)\n",
        "training_acc = history.history['accuracy']\n",
        "validation_acc = history.history['val_accuracy']\n",
        "\n",
        "\n",
        "# b+ is for \"blue cross\"\n",
        "plt.plot(epochs, training_acc, color='royalblue', label='Training Accuracy')\n",
        "# \"bo\" is for \"blue dot\"\n",
        "plt.plot(epochs, validation_acc, color='indianred', label='Validation Accuracy')\n",
        "plt.xlabel('Epochs')\n",
        "plt.ylabel('Accuracy')\n",
        "plt.legend()\n",
        "\n",
        "plt.show()"
      ],
      "execution_count": 115,
      "outputs": [
        {
          "output_type": "display_data",
          "data": {
            "image/png": "[encoded data removed]",
            "text/plain": [
              "<Figure size 432x288 with 1 Axes>"
            ]
          },
          "metadata": {
            "tags": []
          }
        }
      ]
    },
    {
      "cell_type": "code",
      "metadata": {
        "id": "GH6edUPzq-wl"
      },
      "source": [
        ""
      ],
      "execution_count": null,
      "outputs": []
    },
    {
      "cell_type": "code",
      "metadata": {
        "id": "FkjmdXc0q-uN"
      },
      "source": [
        ""
      ],
      "execution_count": null,
      "outputs": []
    },
    {
      "cell_type": "code",
      "metadata": {
        "id": "uwxJivpcpyPG"
      },
      "source": [
        ""
      ],
      "execution_count": null,
      "outputs": []
    }
  ]
}