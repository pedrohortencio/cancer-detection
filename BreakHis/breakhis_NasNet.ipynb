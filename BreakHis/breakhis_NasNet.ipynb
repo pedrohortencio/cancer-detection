{
  "nbformat": 4,
  "nbformat_minor": 0,
  "metadata": {
    "colab": {
      "name": "breakhis_NasNet.ipynb",
      "provenance": [],
      "collapsed_sections": [],
      "authorship_tag": "ABX9TyM56wkPHOCqaJoqap+S7vs+",
      "include_colab_link": true
    },
    "kernelspec": {
      "name": "python3",
      "display_name": "Python 3"
    },
    "language_info": {
      "name": "python"
    }
  },
  "cells": [
    {
      "cell_type": "markdown",
      "metadata": {
        "id": "view-in-github",
        "colab_type": "text"
      },
      "source": [
        "<a href=\"https://colab.research.google.com/github/pedrohortencio/cancer-detection/blob/main/BreakHis/breakhis_NasNet.ipynb\" target=\"_parent\"><img src=\"https://colab.research.google.com/assets/colab-badge.svg\" alt=\"Open In Colab\"/></a>"
      ]
    },
    {
      "cell_type": "markdown",
      "metadata": {
        "id": "5EaLeShiJMnG"
      },
      "source": [
        "[Breast Cancer Histopathological Database - UFPR](https://web.inf.ufpr.br/vri/databases/breast-cancer-histopathological-database-breakhis/)"
      ]
    },
    {
      "cell_type": "code",
      "metadata": {
        "colab": {
          "base_uri": "https://localhost:8080/"
        },
        "id": "qIABkizAc0Pi",
        "outputId": "c8368117-607d-437b-b2cc-1212997ce5cc"
      },
      "source": [
        "from google.colab import drive\n",
        "import os, sys\n",
        "\n",
        "import numpy as np\n",
        "import pandas as pd\n",
        "\n",
        "import matplotlib.pyplot as plt\n",
        "import seaborn as sns\n",
        "\n",
        "from glob import glob\n",
        "from sklearn.utils import shuffle\n",
        "\n",
        "sns.set_theme()\n",
        "\n",
        "drive.mount('/content/drive')"
      ],
      "execution_count": null,
      "outputs": [
        {
          "output_type": "stream",
          "text": [
            "Mounted at /content/drive\n"
          ],
          "name": "stdout"
        }
      ]
    },
    {
      "cell_type": "code",
      "metadata": {
        "colab": {
          "base_uri": "https://localhost:8080/"
        },
        "id": "W8ArhqCDhtC6",
        "outputId": "2ea586ce-6f6b-4f44-9766-e484d5c797cf"
      },
      "source": [
        "print(\"Quantidade de Amostras Benignas:\",\n",
        "      len(os.listdir('/content/drive/MyDrive/data_400X/SOB/400X/benign')))\n",
        "\n",
        "print(\"Quantidade de Amostras Malignas:\",\n",
        "      len(os.listdir('/content/drive/MyDrive/data_400X/SOB/400X/malignant')))"
      ],
      "execution_count": null,
      "outputs": [
        {
          "output_type": "stream",
          "text": [
            "Quantidade de Amostras Benignas: 588\n",
            "Quantidade de Amostras Malignas: 1232\n"
          ],
          "name": "stdout"
        }
      ]
    },
    {
      "cell_type": "code",
      "metadata": {
        "id": "qaAizSN9eMwQ"
      },
      "source": [
        "caminho_base = \"/content/drive/MyDrive/data_400X/SOB/400X\""
      ],
      "execution_count": null,
      "outputs": []
    },
    {
      "cell_type": "code",
      "metadata": {
        "id": "dJPwzwGuf4la"
      },
      "source": [
        "lista_imgs_b = glob(r\"/content/drive/MyDrive/data_400X/SOB/400X/benign/*.png\")\n",
        "lista_imgs_m = glob(r\"/content/drive/MyDrive/data_400X/SOB/400X/malignant/*.png\")"
      ],
      "execution_count": null,
      "outputs": []
    },
    {
      "cell_type": "code",
      "metadata": {
        "colab": {
          "base_uri": "https://localhost:8080/"
        },
        "id": "bqRHktgbgQ_x",
        "outputId": "33a18345-b7ec-4aaa-dc85-fd1b3b53b844"
      },
      "source": [
        "lista_imgs_b[:5]"
      ],
      "execution_count": null,
      "outputs": [
        {
          "output_type": "execute_result",
          "data": {
            "text/plain": [
              "['/content/drive/MyDrive/data_400X/SOB/400X/benign/SOB_B_A-14-22549AB-400-001.png',\n",
              " '/content/drive/MyDrive/data_400X/SOB/400X/benign/SOB_B_A-14-22549AB-400-004.png',\n",
              " '/content/drive/MyDrive/data_400X/SOB/400X/benign/SOB_B_A-14-22549AB-400-007.png',\n",
              " '/content/drive/MyDrive/data_400X/SOB/400X/benign/SOB_B_A-14-22549AB-400-005.png',\n",
              " '/content/drive/MyDrive/data_400X/SOB/400X/benign/SOB_B_A-14-22549AB-400-006.png']"
            ]
          },
          "metadata": {
            "tags": []
          },
          "execution_count": 13
        }
      ]
    },
    {
      "cell_type": "code",
      "metadata": {
        "colab": {
          "base_uri": "https://localhost:8080/"
        },
        "id": "zL38WJAggjXk",
        "outputId": "b5128d1c-7ac8-40bc-ae19-be0d0c992d24"
      },
      "source": [
        "lista_imgs_m[:5]"
      ],
      "execution_count": null,
      "outputs": [
        {
          "output_type": "execute_result",
          "data": {
            "text/plain": [
              "['/content/drive/MyDrive/data_400X/SOB/400X/malignant/SOB_M_DC-14-15572-400-010.png',\n",
              " '/content/drive/MyDrive/data_400X/SOB/400X/malignant/SOB_M_DC-14-14946-400-016.png',\n",
              " '/content/drive/MyDrive/data_400X/SOB/400X/malignant/SOB_M_DC-14-15572-400-006.png',\n",
              " '/content/drive/MyDrive/data_400X/SOB/400X/malignant/SOB_M_DC-14-14946-400-007.png',\n",
              " '/content/drive/MyDrive/data_400X/SOB/400X/malignant/SOB_M_DC-14-14946-400-015.png']"
            ]
          },
          "metadata": {
            "tags": []
          },
          "execution_count": 10
        }
      ]
    },
    {
      "cell_type": "code",
      "metadata": {
        "id": "fGREKDH4gtXS"
      },
      "source": [
        "shuffle(lista_imgs_b, random_state = 42)"
      ],
      "execution_count": null,
      "outputs": []
    }
  ]
}