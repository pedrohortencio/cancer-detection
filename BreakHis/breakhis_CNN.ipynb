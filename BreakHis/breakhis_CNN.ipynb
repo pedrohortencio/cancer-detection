{
  "nbformat": 4,
  "nbformat_minor": 0,
  "metadata": {
    "colab": {
      "name": "breakhis_CNN.ipynb",
      "provenance": [],
      "collapsed_sections": [],
      "authorship_tag": "ABX9TyNfGn91A1lySvpBR3qqSZ88",
      "include_colab_link": true
    },
    "kernelspec": {
      "name": "python3",
      "display_name": "Python 3"
    },
    "language_info": {
      "name": "python"
    }
  },
  "cells": [
    {
      "cell_type": "markdown",
      "metadata": {
        "id": "view-in-github",
        "colab_type": "text"
      },
      "source": [
        "<a href=\"https://colab.research.google.com/github/pedrohortencio/cancer-detection/blob/main/BreakHis/breakhis_CNN.ipynb\" target=\"_parent\"><img src=\"https://colab.research.google.com/assets/colab-badge.svg\" alt=\"Open In Colab\"/></a>"
      ]
    },
    {
      "cell_type": "markdown",
      "metadata": {
        "id": "5EaLeShiJMnG"
      },
      "source": [
        "[Breast Cancer Histopathological Database - UFPR](https://web.inf.ufpr.br/vri/databases/breast-cancer-histopathological-database-breakhis/)"
      ]
    },
    {
      "cell_type": "code",
      "metadata": {
        "colab": {
          "base_uri": "https://localhost:8080/"
        },
        "id": "qIABkizAc0Pi",
        "outputId": "f5ee03f1-bcbe-484d-bb4f-6c1fafae297c"
      },
      "source": [
        "from google.colab import drive\n",
        "import os, sys, shutil\n",
        "\n",
        "import numpy as np\n",
        "import pandas as pd\n",
        "\n",
        "import matplotlib.pyplot as plt\n",
        "import seaborn as sns\n",
        "\n",
        "from glob import glob\n",
        "\n",
        "import tensorflow as tf\n",
        "import keras\n",
        "from tensorflow.keras.preprocessing.image import ImageDataGenerator\n",
        "from keras.layers import Dense, Input, Dropout, Conv2D, MaxPooling2D, Concatenate, Flatten, GlobalMaxPooling2D, GlobalAveragePooling2D, BatchNormalization, ReLU\n",
        "from tensorflow.keras.models import Sequential\n",
        "from tensorflow.keras.callbacks import EarlyStopping, ReduceLROnPlateau, ModelCheckpoint\n",
        "from tensorflow.keras.optimizers import Adam, SGD\n",
        "\n",
        "from sklearn.utils import shuffle\n",
        "\n",
        "sns.set_theme()\n",
        "\n",
        "drive.mount('/content/drive')"
      ],
      "execution_count": 2,
      "outputs": [
        {
          "output_type": "stream",
          "text": [
            "Drive already mounted at /content/drive; to attempt to forcibly remount, call drive.mount(\"/content/drive\", force_remount=True).\n"
          ],
          "name": "stdout"
        }
      ]
    },
    {
      "cell_type": "code",
      "metadata": {
        "id": "-Nn-wx4SbSvi",
        "colab": {
          "base_uri": "https://localhost:8080/"
        },
        "outputId": "3289f9a5-11e6-4e72-e078-d61d28f847ce"
      },
      "source": [
        "!pip install pyfastcopy\n",
        "import pyfastcopy"
      ],
      "execution_count": 3,
      "outputs": [
        {
          "output_type": "stream",
          "text": [
            "Requirement already satisfied: pyfastcopy in /usr/local/lib/python3.7/dist-packages (1.0.3)\n"
          ],
          "name": "stdout"
        }
      ]
    },
    {
      "cell_type": "code",
      "metadata": {
        "colab": {
          "base_uri": "https://localhost:8080/"
        },
        "id": "W8ArhqCDhtC6",
        "outputId": "365bb49c-d0e8-4bbc-dff5-429731bf072e"
      },
      "source": [
        "print(\"Quantidade de Amostras Benignas:\",\n",
        "      len(os.listdir('/content/drive/MyDrive/data_400X/SOB/400X/benign')))\n",
        "\n",
        "print(\"Quantidade de Amostras Malignas:\",\n",
        "      len(os.listdir('/content/drive/MyDrive/data_400X/SOB/400X/malignant')))"
      ],
      "execution_count": 4,
      "outputs": [
        {
          "output_type": "stream",
          "text": [
            "Quantidade de Amostras Benignas: 588\n",
            "Quantidade de Amostras Malignas: 1232\n"
          ],
          "name": "stdout"
        }
      ]
    },
    {
      "cell_type": "code",
      "metadata": {
        "id": "qaAizSN9eMwQ"
      },
      "source": [
        "caminho_base = \"/content/drive/MyDrive/data_400X/SOB/400X\""
      ],
      "execution_count": 5,
      "outputs": []
    },
    {
      "cell_type": "code",
      "metadata": {
        "id": "dJPwzwGuf4la"
      },
      "source": [
        "lista_imgs_b = glob(r\"/content/drive/MyDrive/data_400X/SOB/400X/benign/*.png\")\n",
        "lista_imgs_m = glob(r\"/content/drive/MyDrive/data_400X/SOB/400X/malignant/*.png\")\n",
        "\n",
        "lista_imgs_b = shuffle(lista_imgs_b, random_state = 42)\n",
        "lista_imgs_m = shuffle(lista_imgs_m, random_state=42)"
      ],
      "execution_count": 6,
      "outputs": []
    },
    {
      "cell_type": "code",
      "metadata": {
        "colab": {
          "base_uri": "https://localhost:8080/"
        },
        "id": "bqRHktgbgQ_x",
        "outputId": "1c0fe8ca-b531-4c02-c335-f5c73833dacf"
      },
      "source": [
        "lista_imgs_b[:2]"
      ],
      "execution_count": 7,
      "outputs": [
        {
          "output_type": "execute_result",
          "data": {
            "text/plain": [
              "['/content/drive/MyDrive/data_400X/SOB/400X/benign/SOB_B_TA-14-16184CD-400-022.png',\n",
              " '/content/drive/MyDrive/data_400X/SOB/400X/benign/SOB_B_F-14-23060CD-400-015.png']"
            ]
          },
          "metadata": {
            "tags": []
          },
          "execution_count": 7
        }
      ]
    },
    {
      "cell_type": "code",
      "metadata": {
        "colab": {
          "base_uri": "https://localhost:8080/"
        },
        "id": "zL38WJAggjXk",
        "outputId": "6762e0c5-0183-438f-b09f-be606491e37f"
      },
      "source": [
        "lista_imgs_m[:2]"
      ],
      "execution_count": 8,
      "outputs": [
        {
          "output_type": "execute_result",
          "data": {
            "text/plain": [
              "['/content/drive/MyDrive/data_400X/SOB/400X/malignant/SOB_M_DC-14-9461-400-025.png',\n",
              " '/content/drive/MyDrive/data_400X/SOB/400X/malignant/SOB_M_DC-14-12312-400-024.png']"
            ]
          },
          "metadata": {
            "tags": []
          },
          "execution_count": 8
        }
      ]
    },
    {
      "cell_type": "code",
      "metadata": {
        "id": "D0swrHl3NQ3_"
      },
      "source": [
        ""
      ],
      "execution_count": null,
      "outputs": []
    },
    {
      "cell_type": "markdown",
      "metadata": {
        "id": "wsflN_zbrpM4"
      },
      "source": [
        "## Copiando Imagens para o Google Colab"
      ]
    },
    {
      "cell_type": "code",
      "metadata": {
        "id": "_0v4vBZ4NQ1L"
      },
      "source": [
        "# Criando uma nova pasta/diretório\n",
        "dir_base = 'dir_base'\n",
        "os.mkdir(dir_base)\n",
        "\n",
        "# Dentro da pasta \"dir_base\", haverá a seguinte estrutura:\n",
        "\n",
        "# dir_treino\n",
        "    # a_benigno\n",
        "    # b_maligno\n",
        "\n",
        "# dir_teste\n",
        "    # a_benigno\n",
        "    # b_maligno\n",
        "\n",
        "\n",
        "# Criando a pasta \"dir_treino\"\n",
        "dir_treino = os.path.join(dir_base, 'dir_treino')\n",
        "os.mkdir(dir_treino)\n",
        "\n",
        "# Criando a pasta \"dir_teste\"\n",
        "dir_teste = os.path.join(dir_base, 'dir_teste')\n",
        "os.mkdir(dir_teste)\n",
        "\n",
        "\n",
        "# Criando as pastas que ficarão dentro das pastas \"dir_treino\" e \"dir_teste\"\n",
        "# Dentro dessas pastas estarão as imagens correspondentes a cada um dos labels\n",
        "\n",
        "# Crindo pastas dentro de \"dir_treino\"\n",
        "benigno = os.path.join(dir_treino, 'a_benigno')\n",
        "os.mkdir(benigno)\n",
        "maligno = os.path.join(dir_treino, 'b_maligno')\n",
        "os.mkdir(maligno)\n",
        "\n",
        "# Criando pastas dentro de \"dir_teste\"\n",
        "benigno = os.path.join(dir_teste, 'a_benigno')\n",
        "os.mkdir(benigno)\n",
        "maligno = os.path.join(dir_teste, 'b_maligno')\n",
        "os.mkdir(maligno)"
      ],
      "execution_count": null,
      "outputs": []
    },
    {
      "cell_type": "code",
      "metadata": {
        "colab": {
          "base_uri": "https://localhost:8080/"
        },
        "id": "gNvuuY3bQVj6",
        "outputId": "a0e311ed-1968-4cb5-8098-bee3d3734dee"
      },
      "source": [
        "# Checando as pastas no diretório base\n",
        "os.listdir('dir_base')"
      ],
      "execution_count": null,
      "outputs": [
        {
          "output_type": "execute_result",
          "data": {
            "text/plain": [
              "['dir_teste', 'dir_treino']"
            ]
          },
          "metadata": {
            "tags": []
          },
          "execution_count": 9
        }
      ]
    },
    {
      "cell_type": "code",
      "metadata": {
        "colab": {
          "base_uri": "https://localhost:8080/"
        },
        "id": "zoCqJ3F7QLbo",
        "outputId": "e1e829d4-188a-46ce-ca2d-5dd85289e764"
      },
      "source": [
        "# Checando as pastas no diretório de treino\n",
        "os.listdir('dir_base/dir_treino')"
      ],
      "execution_count": null,
      "outputs": [
        {
          "output_type": "execute_result",
          "data": {
            "text/plain": [
              "['b_maligno', 'a_benigno']"
            ]
          },
          "metadata": {
            "tags": []
          },
          "execution_count": 10
        }
      ]
    },
    {
      "cell_type": "code",
      "metadata": {
        "colab": {
          "base_uri": "https://localhost:8080/"
        },
        "id": "pYApGwkKQOqd",
        "outputId": "2b36d2bf-a416-42ca-86d3-4d71c89ef3c5"
      },
      "source": [
        "# Checando as pastas no diretório de teste\n",
        "os.listdir('dir_base/dir_teste')"
      ],
      "execution_count": null,
      "outputs": [
        {
          "output_type": "execute_result",
          "data": {
            "text/plain": [
              "['b_maligno', 'a_benigno']"
            ]
          },
          "metadata": {
            "tags": []
          },
          "execution_count": 11
        }
      ]
    },
    {
      "cell_type": "code",
      "metadata": {
        "id": "ROCtO-CLQc7n"
      },
      "source": [
        "num_amostras_b = int(np.ceil(len(lista_imgs_b)*0.25))       # 147\n",
        "num_amostras_m = int(np.ceil(len(lista_imgs_m)*0.25))       # 308\n",
        "\n",
        "# Mudando as imagens de pasta\n",
        "for count, image in enumerate(lista_imgs_b):\n",
        "    \n",
        "    # Da imagem 0 - 146 (147 amostras): salvar na pasta /content/dir_base/dir_teste/a_benigno\n",
        "    # Da imagem 147 - 588 (441 amostras): salvar na pasta /content/dir_base/dir_treino/a_benigno\n",
        "    \n",
        "    if count < num_amostras_b:\n",
        "        dir = '/content/dir_base/dir_teste/a_benigno'\n",
        "    else:\n",
        "        dir = '/content/dir_base/dir_treino/a_benigno'\n",
        "\n",
        "\n",
        "    src = image                                         # Define o caminho de origem\n",
        "    dst = os.path.join(dir, image.split('/')[-1])       # Define o caminho de destino\n",
        "    \n",
        "    shutil.copyfile(src, dst)                   # Copia a imagem de uma pasta para outra\n",
        "\n",
        "\n",
        "# Mesmo processo, mas para as imagens de Teste\n",
        "\n",
        "for count, image in enumerate(lista_imgs_m):\n",
        "    \n",
        "    # Da imagem 0 - 307 (308 amostras): salvar na pasta /content/dir_base/dir_teste/b_maligno\n",
        "    # Da imagem 308 - 1232 (924 amostras): salvar na pasta /content/dir_base/dir_treino/b_maligno\n",
        "    \n",
        "    if count < num_amostras_m:\n",
        "        dir = '/content/dir_base/dir_teste/b_maligno'\n",
        "    else:\n",
        "        dir = '/content/dir_base/dir_treino/b_maligno'\n",
        "\n",
        "\n",
        "    src = image                                         # Define o caminho de origem\n",
        "    dst = os.path.join(dir, image.split('/')[-1])       # Define o caminho de destino\n",
        "    \n",
        "    shutil.copyfile(src, dst)                   # Copia a imagem de uma pasta para outra"
      ],
      "execution_count": null,
      "outputs": []
    },
    {
      "cell_type": "code",
      "metadata": {
        "colab": {
          "base_uri": "https://localhost:8080/"
        },
        "id": "5IsaouiSQYRx",
        "outputId": "340619e3-2fdd-4f44-9fe4-62f91b478696"
      },
      "source": [
        "print(\"Quantidade de Amostras Benignas de Treino:\",\n",
        "      len(os.listdir('/content/dir_base/dir_treino/a_benigno')))\n",
        "\n",
        "print(\"Quantidade de Amostras Benignas de Teste:\",\n",
        "      len(os.listdir('/content/dir_base/dir_teste/a_benigno')))\n",
        "\n",
        "print(\"Quantidade de Amostras Malignas de Treino:\",\n",
        "      len(os.listdir('/content/dir_base/dir_treino/b_maligno')))\n",
        "\n",
        "print(\"Quantidade de Amostras Malignas de Teste:\",\n",
        "      len(os.listdir('/content/dir_base/dir_teste/b_maligno')))"
      ],
      "execution_count": null,
      "outputs": [
        {
          "output_type": "stream",
          "text": [
            "Quantidade de Amostras Benignas de Treino: 441\n",
            "Quantidade de Amostras Benignas de Teste: 147\n",
            "Quantidade de Amostras Malignas de Treino: 924\n",
            "Quantidade de Amostras Malignas de Teste: 308\n"
          ],
          "name": "stdout"
        }
      ]
    },
    {
      "cell_type": "code",
      "metadata": {
        "id": "dATiaWJMQa8J"
      },
      "source": [
        ""
      ],
      "execution_count": null,
      "outputs": []
    },
    {
      "cell_type": "markdown",
      "metadata": {
        "id": "5PqGMP9mrkex"
      },
      "source": [
        "## Criação do ImageDataGenerator"
      ]
    },
    {
      "cell_type": "code",
      "metadata": {
        "id": "n4hboIB0cBdP"
      },
      "source": [
        "BATCH_SIZE = 32\n",
        "TAMANHO_IMAGEM = 96\n",
        "train_path = '/content/dir_base/dir_treino'     # Caminho das imagens de treino\n",
        "test_path = '/content/dir_base/dir_teste'       # Caminho das imagens de teste\n",
        "\n",
        "num_amostras_treino = len(os.listdir('/content/dir_base/dir_treino/a_benigno')) + len(os.listdir('/content/dir_base/dir_teste/a_benigno'))   "
      ],
      "execution_count": 11,
      "outputs": []
    },
    {
      "cell_type": "code",
      "metadata": {
        "id": "kdpwDNXjhV0T"
      },
      "source": [
        "datagen_treino = ImageDataGenerator(rescale=1.0/255,\n",
        "                             horizontal_flip=True,\n",
        "                             vertical_flip=True,\n",
        "                             validation_split=0.2)\n",
        "\n",
        "datagen_val = ImageDataGenerator(rescale=1.0/255,\n",
        "                                 validation_split=0.2)\n",
        "\n",
        "datagen_teste = ImageDataGenerator(rescale=1.0/255)"
      ],
      "execution_count": 12,
      "outputs": []
    },
    {
      "cell_type": "code",
      "metadata": {
        "colab": {
          "base_uri": "https://localhost:8080/"
        },
        "id": "mH04Etn7lxBx",
        "outputId": "1cbc6387-4dd0-4a34-e0af-99fe8d119bb2"
      },
      "source": [
        "gen_treino = datagen_treino.flow_from_directory(\n",
        "            train_path,\n",
        "            target_size=(TAMANHO_IMAGEM, TAMANHO_IMAGEM),\n",
        "            batch_size=BATCH_SIZE,\n",
        "            subset=\"training\",\n",
        "            #shuffle=False,\n",
        "            class_mode='binary',\n",
        ")\n",
        "\n",
        "gen_val = datagen_treino.flow_from_directory(\n",
        "            train_path,\n",
        "            target_size=(TAMANHO_IMAGEM, TAMANHO_IMAGEM),\n",
        "            batch_size=BATCH_SIZE,\n",
        "            subset=\"validation\",\n",
        "            #shuffle=False,\n",
        "            class_mode='binary',\n",
        ")\n",
        "\n",
        "test_gen = datagen_teste.flow_from_directory(\n",
        "            test_path,\n",
        "            target_size=(TAMANHO_IMAGEM,TAMANHO_IMAGEM),\n",
        "            batch_size=1,               # Teste será gerado imagem a imagem\n",
        "            class_mode='binary',   \n",
        "            shuffle=False)   "
      ],
      "execution_count": 13,
      "outputs": [
        {
          "output_type": "stream",
          "text": [
            "Found 1093 images belonging to 2 classes.\n",
            "Found 272 images belonging to 2 classes.\n",
            "Found 455 images belonging to 2 classes.\n"
          ],
          "name": "stdout"
        }
      ]
    },
    {
      "cell_type": "code",
      "metadata": {
        "id": "qIgRBKIan7Gl"
      },
      "source": [
        "STEP_SIZE_TREINO = gen_treino.n // gen_treino.batch_size\n",
        "\n",
        "STEP_SIZE_VAL = gen_val.n // gen_val.batch_size"
      ],
      "execution_count": 14,
      "outputs": []
    },
    {
      "cell_type": "code",
      "metadata": {
        "id": "8-gAfU3_o33Y"
      },
      "source": [
        ""
      ],
      "execution_count": null,
      "outputs": []
    },
    {
      "cell_type": "code",
      "metadata": {
        "id": "MpKOWWXwqrFf"
      },
      "source": [
        ""
      ],
      "execution_count": null,
      "outputs": []
    },
    {
      "cell_type": "markdown",
      "metadata": {
        "id": "10XHl4JarhqL"
      },
      "source": [
        "## Construção do Modelo"
      ]
    },
    {
      "cell_type": "code",
      "metadata": {
        "id": "6rVE9MBy5TgL"
      },
      "source": [
        ""
      ],
      "execution_count": null,
      "outputs": []
    },
    {
      "cell_type": "code",
      "metadata": {
        "id": "52kZR1pLqciK"
      },
      "source": [
        "\"\"\"model = Sequential()\n",
        "model.add(conv_base)\n",
        "model.add(Conv2D(64, (3,3)))\n",
        "model.add(LeakyReLU(alpha=0.1))\n",
        "model.add(MaxPooling2D())\n",
        "model.add(BatchNormalization())\n",
        "\n",
        "model.add(Conv2D(32, (3,3)))\n",
        "model.add(LeakyReLU(alpha=0.1))\n",
        "#model.add(BatchNormalization())\n",
        "\n",
        "#model.add(Flatten())\n",
        "model.add(GlobalAveragePooling2D())\n",
        "\n",
        "\n",
        "#model.add(Dropout(.1))\n",
        "\n",
        "#model.add(Dense(32))\n",
        "#model.add(ReLU())\n",
        "#model.add(Dropout(.3))\n",
        "\n",
        "model.add(Dense(1, activation='sigmoid'))\"\"\""
      ],
      "execution_count": null,
      "outputs": []
    },
    {
      "cell_type": "code",
      "metadata": {
        "id": "BZwG-hoXFTFU"
      },
      "source": [
        "inputs = Input((96, 96, 3))\n",
        "\n",
        "conv1 = Conv2D(128, (3,3), activation=ReLU())(inputs)\n",
        "maxPool1 = MaxPooling2D()(conv1)\n",
        "\n",
        "conv2 = Conv2D(32, (3,3), activation=ReLU())(maxPool1)\n",
        "maxPool2 = MaxPooling2D()(conv2)\n",
        "\n",
        "#conv3 = Conv2D(64, (3,3), activation=ReLU())(maxPool2)\n",
        "#maxPool3 = MaxPooling2D()(conv3)\n",
        "\n",
        "out1 = GlobalMaxPooling2D()(maxPool2)\n",
        "out2 = GlobalAveragePooling2D()(maxPool2)\n",
        "out3 = Flatten()(maxPool2)\n",
        "\n",
        "concat = Concatenate(axis=-1)([out1, out2, out3])\n",
        "dropout1 = Dropout(0.1)(concat)\n",
        "\n",
        "dense1 = Dense(128, activation='relu')(dropout1)\n",
        "dropout2 = Dropout(0.3)(dense1)\n",
        "\n",
        "dense2 = Dense(64, activation='relu')(dropout2)\n",
        "\n",
        "\n",
        "out = Dense(1, activation='sigmoid')(dense2)\n",
        "\n",
        "model = keras.models.Model(inputs, out)"
      ],
      "execution_count": 27,
      "outputs": []
    },
    {
      "cell_type": "code",
      "metadata": {
        "colab": {
          "base_uri": "https://localhost:8080/"
        },
        "id": "qjribJno2UE0",
        "outputId": "03afd42c-9196-4f64-a6c9-47ca1e0270ac"
      },
      "source": [
        "model.summary()"
      ],
      "execution_count": 28,
      "outputs": [
        {
          "output_type": "stream",
          "text": [
            "Model: \"model_5\"\n",
            "__________________________________________________________________________________________________\n",
            "Layer (type)                    Output Shape         Param #     Connected to                     \n",
            "==================================================================================================\n",
            "input_6 (InputLayer)            [(None, 96, 96, 3)]  0                                            \n",
            "__________________________________________________________________________________________________\n",
            "conv2d_12 (Conv2D)              (None, 94, 94, 128)  3584        input_6[0][0]                    \n",
            "__________________________________________________________________________________________________\n",
            "max_pooling2d_12 (MaxPooling2D) (None, 47, 47, 128)  0           conv2d_12[0][0]                  \n",
            "__________________________________________________________________________________________________\n",
            "conv2d_13 (Conv2D)              (None, 45, 45, 32)   36896       max_pooling2d_12[0][0]           \n",
            "__________________________________________________________________________________________________\n",
            "max_pooling2d_13 (MaxPooling2D) (None, 22, 22, 32)   0           conv2d_13[0][0]                  \n",
            "__________________________________________________________________________________________________\n",
            "global_max_pooling2d_5 (GlobalM (None, 32)           0           max_pooling2d_13[0][0]           \n",
            "__________________________________________________________________________________________________\n",
            "global_average_pooling2d_5 (Glo (None, 32)           0           max_pooling2d_13[0][0]           \n",
            "__________________________________________________________________________________________________\n",
            "flatten_5 (Flatten)             (None, 15488)        0           max_pooling2d_13[0][0]           \n",
            "__________________________________________________________________________________________________\n",
            "concatenate_5 (Concatenate)     (None, 15552)        0           global_max_pooling2d_5[0][0]     \n",
            "                                                                 global_average_pooling2d_5[0][0] \n",
            "                                                                 flatten_5[0][0]                  \n",
            "__________________________________________________________________________________________________\n",
            "dropout_10 (Dropout)            (None, 15552)        0           concatenate_5[0][0]              \n",
            "__________________________________________________________________________________________________\n",
            "dense_15 (Dense)                (None, 128)          1990784     dropout_10[0][0]                 \n",
            "__________________________________________________________________________________________________\n",
            "dropout_11 (Dropout)            (None, 128)          0           dense_15[0][0]                   \n",
            "__________________________________________________________________________________________________\n",
            "dense_16 (Dense)                (None, 64)           8256        dropout_11[0][0]                 \n",
            "__________________________________________________________________________________________________\n",
            "dense_17 (Dense)                (None, 1)            65          dense_16[0][0]                   \n",
            "==================================================================================================\n",
            "Total params: 2,039,585\n",
            "Trainable params: 2,039,585\n",
            "Non-trainable params: 0\n",
            "__________________________________________________________________________________________________\n"
          ],
          "name": "stdout"
        }
      ]
    },
    {
      "cell_type": "code",
      "metadata": {
        "id": "kKxrIy5Jq23_"
      },
      "source": [
        "model.compile(SGD(lr=0.01, nesterov=True), loss='binary_crossentropy', \n",
        "              metrics=['accuracy', tf.keras.metrics.AUC(), tf.keras.metrics.Recall()])"
      ],
      "execution_count": 29,
      "outputs": []
    },
    {
      "cell_type": "code",
      "metadata": {
        "colab": {
          "base_uri": "https://localhost:8080/"
        },
        "id": "s7pZtMBLqcdM",
        "outputId": "735ccd16-a454-4d49-853d-65ac0963faa1"
      },
      "source": [
        "print(gen_treino.class_indices)\n",
        "print(gen_val.class_indices)"
      ],
      "execution_count": 22,
      "outputs": [
        {
          "output_type": "stream",
          "text": [
            "{'a_benigno': 0, 'b_maligno': 1}\n",
            "{'a_benigno': 0, 'b_maligno': 1}\n"
          ],
          "name": "stdout"
        }
      ]
    },
    {
      "cell_type": "code",
      "metadata": {
        "id": "N5TE3224q9cb"
      },
      "source": [
        "filepath = \"content/model.h5\"\n",
        "reduce_lr = ReduceLROnPlateau(monitor='val_loss', factor=0.5, patience=2, \n",
        "                              verbose=1, mode='max', min_lr=0.00001)\n",
        "checkpoint = ModelCheckpoint(filepath, monitor='val_accuracy', verbose=1, \n",
        "                             save_best_only=True, mode='max')\n",
        "early_stop = EarlyStopping(monitor='val_loss', patience=6)"
      ],
      "execution_count": 30,
      "outputs": []
    },
    {
      "cell_type": "code",
      "metadata": {
        "colab": {
          "base_uri": "https://localhost:8080/"
        },
        "id": "89fq-QpHq-2B",
        "outputId": "cd0bed69-5083-4039-ca93-1e0f981cff0d"
      },
      "source": [
        "history = model.fit(gen_treino, steps_per_epoch=STEP_SIZE_TREINO, \n",
        "                              validation_data=gen_val,\n",
        "                              validation_steps=STEP_SIZE_VAL,\n",
        "                              epochs=50, verbose=1,\n",
        "                              callbacks=[reduce_lr, checkpoint, early_stop])"
      ],
      "execution_count": 31,
      "outputs": [
        {
          "output_type": "stream",
          "text": [
            "Epoch 1/50\n",
            "34/34 [==============================] - 46s 1s/step - loss: 0.6504 - accuracy: 0.6406 - auc_1: 0.5415 - recall_1: 0.9131 - val_loss: 0.6154 - val_accuracy: 0.6836 - val_auc_1: 0.7922 - val_recall_1: 1.0000\n",
            "\n",
            "Epoch 00001: val_accuracy improved from -inf to 0.68359, saving model to content/model.h5\n",
            "Epoch 2/50\n",
            "34/34 [==============================] - 44s 1s/step - loss: 0.6354 - accuracy: 0.6608 - auc_1: 0.5580 - recall_1: 0.9991 - val_loss: 0.6205 - val_accuracy: 0.6641 - val_auc_1: 0.9342 - val_recall_1: 1.0000\n",
            "\n",
            "Epoch 00002: val_accuracy did not improve from 0.68359\n",
            "Epoch 3/50\n",
            "34/34 [==============================] - 44s 1s/step - loss: 0.6326 - accuracy: 0.6502 - auc_1: 0.6146 - recall_1: 0.9950 - val_loss: 0.5744 - val_accuracy: 0.6875 - val_auc_1: 0.9640 - val_recall_1: 1.0000\n",
            "\n",
            "Epoch 00003: val_accuracy improved from 0.68359 to 0.68750, saving model to content/model.h5\n",
            "Epoch 4/50\n",
            "34/34 [==============================] - 44s 1s/step - loss: 0.6232 - accuracy: 0.6413 - auc_1: 0.6640 - recall_1: 0.9430 - val_loss: 0.5645 - val_accuracy: 0.8906 - val_auc_1: 0.9452 - val_recall_1: 0.9713\n",
            "\n",
            "Epoch 00004: ReduceLROnPlateau reducing learning rate to 0.004999999888241291.\n",
            "\n",
            "Epoch 00004: val_accuracy improved from 0.68750 to 0.89062, saving model to content/model.h5\n",
            "Epoch 5/50\n",
            "34/34 [==============================] - 44s 1s/step - loss: 0.5693 - accuracy: 0.7145 - auc_1: 0.7570 - recall_1: 0.9474 - val_loss: 0.5092 - val_accuracy: 0.7852 - val_auc_1: 0.9461 - val_recall_1: 1.0000\n",
            "\n",
            "Epoch 00005: val_accuracy did not improve from 0.89062\n",
            "Epoch 6/50\n",
            "34/34 [==============================] - 44s 1s/step - loss: 0.5389 - accuracy: 0.7482 - auc_1: 0.7884 - recall_1: 0.9503 - val_loss: 0.4804 - val_accuracy: 0.7969 - val_auc_1: 0.9473 - val_recall_1: 1.0000\n",
            "\n",
            "Epoch 00006: ReduceLROnPlateau reducing learning rate to 0.0024999999441206455.\n",
            "\n",
            "Epoch 00006: val_accuracy did not improve from 0.89062\n",
            "Epoch 7/50\n",
            "34/34 [==============================] - 44s 1s/step - loss: 0.5450 - accuracy: 0.7571 - auc_1: 0.7689 - recall_1: 0.9322 - val_loss: 0.4631 - val_accuracy: 0.7266 - val_auc_1: 0.9530 - val_recall_1: 1.0000\n",
            "\n",
            "Epoch 00007: val_accuracy did not improve from 0.89062\n",
            "Epoch 8/50\n",
            "34/34 [==============================] - 44s 1s/step - loss: 0.5359 - accuracy: 0.7693 - auc_1: 0.7900 - recall_1: 0.9445 - val_loss: 0.4567 - val_accuracy: 0.8906 - val_auc_1: 0.9407 - val_recall_1: 0.9655\n",
            "\n",
            "Epoch 00008: ReduceLROnPlateau reducing learning rate to 0.0012499999720603228.\n",
            "\n",
            "Epoch 00008: val_accuracy did not improve from 0.89062\n",
            "Epoch 9/50\n",
            "34/34 [==============================] - 44s 1s/step - loss: 0.4992 - accuracy: 0.8087 - auc_1: 0.8258 - recall_1: 0.9194 - val_loss: 0.4443 - val_accuracy: 0.8281 - val_auc_1: 0.9428 - val_recall_1: 0.9884\n",
            "\n",
            "Epoch 00009: val_accuracy did not improve from 0.89062\n",
            "Epoch 10/50\n",
            "34/34 [==============================] - 44s 1s/step - loss: 0.4902 - accuracy: 0.8141 - auc_1: 0.8061 - recall_1: 0.9534 - val_loss: 0.4334 - val_accuracy: 0.8359 - val_auc_1: 0.9496 - val_recall_1: 0.9885\n",
            "\n",
            "Epoch 00010: ReduceLROnPlateau reducing learning rate to 0.0006249999860301614.\n",
            "\n",
            "Epoch 00010: val_accuracy did not improve from 0.89062\n",
            "Epoch 11/50\n",
            "34/34 [==============================] - 45s 1s/step - loss: 0.5034 - accuracy: 0.8173 - auc_1: 0.8237 - recall_1: 0.9385 - val_loss: 0.4335 - val_accuracy: 0.8555 - val_auc_1: 0.9391 - val_recall_1: 0.9886\n",
            "\n",
            "Epoch 00011: val_accuracy did not improve from 0.89062\n",
            "Epoch 12/50\n",
            "34/34 [==============================] - 44s 1s/step - loss: 0.5071 - accuracy: 0.7990 - auc_1: 0.7931 - recall_1: 0.9398 - val_loss: 0.4313 - val_accuracy: 0.8516 - val_auc_1: 0.9516 - val_recall_1: 0.9941\n",
            "\n",
            "Epoch 00012: ReduceLROnPlateau reducing learning rate to 0.0003124999930150807.\n",
            "\n",
            "Epoch 00012: val_accuracy did not improve from 0.89062\n",
            "Epoch 13/50\n",
            "34/34 [==============================] - 44s 1s/step - loss: 0.5053 - accuracy: 0.8119 - auc_1: 0.7770 - recall_1: 0.9439 - val_loss: 0.4262 - val_accuracy: 0.8477 - val_auc_1: 0.9514 - val_recall_1: 0.9942\n",
            "\n",
            "Epoch 00013: val_accuracy did not improve from 0.89062\n",
            "Epoch 14/50\n",
            "34/34 [==============================] - 44s 1s/step - loss: 0.4938 - accuracy: 0.8197 - auc_1: 0.8147 - recall_1: 0.9478 - val_loss: 0.4228 - val_accuracy: 0.8594 - val_auc_1: 0.9386 - val_recall_1: 0.9831\n",
            "\n",
            "Epoch 00014: ReduceLROnPlateau reducing learning rate to 0.00015624999650754035.\n",
            "\n",
            "Epoch 00014: val_accuracy did not improve from 0.89062\n",
            "Epoch 15/50\n",
            "34/34 [==============================] - 44s 1s/step - loss: 0.4750 - accuracy: 0.8465 - auc_1: 0.8279 - recall_1: 0.9497 - val_loss: 0.4244 - val_accuracy: 0.8594 - val_auc_1: 0.9457 - val_recall_1: 0.9827\n",
            "\n",
            "Epoch 00015: val_accuracy did not improve from 0.89062\n",
            "Epoch 16/50\n",
            "34/34 [==============================] - 44s 1s/step - loss: 0.4983 - accuracy: 0.8187 - auc_1: 0.8028 - recall_1: 0.9417 - val_loss: 0.4249 - val_accuracy: 0.8359 - val_auc_1: 0.9424 - val_recall_1: 0.9943\n",
            "\n",
            "Epoch 00016: ReduceLROnPlateau reducing learning rate to 7.812499825377017e-05.\n",
            "\n",
            "Epoch 00016: val_accuracy did not improve from 0.89062\n",
            "Epoch 17/50\n",
            "34/34 [==============================] - 44s 1s/step - loss: 0.4907 - accuracy: 0.8172 - auc_1: 0.8122 - recall_1: 0.9468 - val_loss: 0.4324 - val_accuracy: 0.8320 - val_auc_1: 0.9422 - val_recall_1: 0.9942\n",
            "\n",
            "Epoch 00017: val_accuracy did not improve from 0.89062\n",
            "Epoch 18/50\n",
            "34/34 [==============================] - 44s 1s/step - loss: 0.4853 - accuracy: 0.8211 - auc_1: 0.8236 - recall_1: 0.9375 - val_loss: 0.4294 - val_accuracy: 0.8359 - val_auc_1: 0.9464 - val_recall_1: 0.9882\n",
            "\n",
            "Epoch 00018: ReduceLROnPlateau reducing learning rate to 3.9062499126885086e-05.\n",
            "\n",
            "Epoch 00018: val_accuracy did not improve from 0.89062\n",
            "Epoch 19/50\n",
            "34/34 [==============================] - 44s 1s/step - loss: 0.4877 - accuracy: 0.8148 - auc_1: 0.8105 - recall_1: 0.9416 - val_loss: 0.4237 - val_accuracy: 0.8281 - val_auc_1: 0.9436 - val_recall_1: 0.9943\n",
            "\n",
            "Epoch 00019: val_accuracy did not improve from 0.89062\n",
            "Epoch 20/50\n",
            "34/34 [==============================] - 44s 1s/step - loss: 0.4848 - accuracy: 0.8363 - auc_1: 0.8292 - recall_1: 0.9530 - val_loss: 0.4166 - val_accuracy: 0.8438 - val_auc_1: 0.9476 - val_recall_1: 0.9943\n",
            "\n",
            "Epoch 00020: ReduceLROnPlateau reducing learning rate to 1.9531249563442543e-05.\n",
            "\n",
            "Epoch 00020: val_accuracy did not improve from 0.89062\n",
            "Epoch 21/50\n",
            "34/34 [==============================] - 44s 1s/step - loss: 0.4855 - accuracy: 0.8297 - auc_1: 0.8244 - recall_1: 0.9482 - val_loss: 0.4257 - val_accuracy: 0.8320 - val_auc_1: 0.9402 - val_recall_1: 0.9886\n",
            "\n",
            "Epoch 00021: val_accuracy did not improve from 0.89062\n",
            "Epoch 22/50\n",
            "34/34 [==============================] - 44s 1s/step - loss: 0.5142 - accuracy: 0.8000 - auc_1: 0.7995 - recall_1: 0.9507 - val_loss: 0.4232 - val_accuracy: 0.8359 - val_auc_1: 0.9456 - val_recall_1: 0.9884\n",
            "\n",
            "Epoch 00022: ReduceLROnPlateau reducing learning rate to 1e-05.\n",
            "\n",
            "Epoch 00022: val_accuracy did not improve from 0.89062\n",
            "Epoch 23/50\n",
            "34/34 [==============================] - 44s 1s/step - loss: 0.4837 - accuracy: 0.8211 - auc_1: 0.8024 - recall_1: 0.9464 - val_loss: 0.4180 - val_accuracy: 0.8320 - val_auc_1: 0.9491 - val_recall_1: 0.9885\n",
            "\n",
            "Epoch 00023: val_accuracy did not improve from 0.89062\n",
            "Epoch 24/50\n",
            "34/34 [==============================] - 44s 1s/step - loss: 0.5444 - accuracy: 0.8098 - auc_1: 0.7958 - recall_1: 0.9645 - val_loss: 0.4198 - val_accuracy: 0.8398 - val_auc_1: 0.9483 - val_recall_1: 0.9885\n",
            "\n",
            "Epoch 00024: val_accuracy did not improve from 0.89062\n",
            "Epoch 25/50\n",
            "34/34 [==============================] - 44s 1s/step - loss: 0.5076 - accuracy: 0.8066 - auc_1: 0.8085 - recall_1: 0.9330 - val_loss: 0.4209 - val_accuracy: 0.8398 - val_auc_1: 0.9451 - val_recall_1: 0.9885\n",
            "\n",
            "Epoch 00025: val_accuracy did not improve from 0.89062\n",
            "Epoch 26/50\n",
            "34/34 [==============================] - 44s 1s/step - loss: 0.4850 - accuracy: 0.8346 - auc_1: 0.8243 - recall_1: 0.9651 - val_loss: 0.4189 - val_accuracy: 0.8359 - val_auc_1: 0.9487 - val_recall_1: 0.9884\n",
            "\n",
            "Epoch 00026: val_accuracy did not improve from 0.89062\n"
          ],
          "name": "stdout"
        }
      ]
    },
    {
      "cell_type": "code",
      "metadata": {
        "colab": {
          "base_uri": "https://localhost:8080/",
          "height": 285
        },
        "id": "1Qpj8gClq-y8",
        "outputId": "38f4db4d-f23a-4550-acc1-6a14d6f0b953"
      },
      "source": [
        "epochs = range(1, len(history.history['loss'])+1)\n",
        "training_loss = history.history['loss']\n",
        "validation_loss = history.history['val_loss']\n",
        "\n",
        "\n",
        "# b+ is for \"blue cross\"\n",
        "plt.plot(epochs, training_loss, color='royalblue', label='Training Loss')\n",
        "# \"bo\" is for \"blue dot\"\n",
        "plt.plot(epochs, validation_loss, color='indianred', label='Validation Loss')\n",
        "plt.xlabel('Epochs')\n",
        "plt.ylabel('Loss')\n",
        "plt.legend()\n",
        "\n",
        "plt.show()"
      ],
      "execution_count": 32,
      "outputs": [
        {
          "output_type": "display_data",
          "data": {
            "image/png": "[encoded data removed]",
            "text/plain": [
              "<Figure size 432x288 with 1 Axes>"
            ]
          },
          "metadata": {
            "tags": []
          }
        }
      ]
    },
    {
      "cell_type": "code",
      "metadata": {
        "colab": {
          "base_uri": "https://localhost:8080/",
          "height": 287
        },
        "id": "sxhsK7OrrVk7",
        "outputId": "4afb44e7-8f3b-4b72-e9d3-16bc90efc814"
      },
      "source": [
        "epochs = range(1, len(history.history['loss'])+1)\n",
        "training_acc = history.history['accuracy']\n",
        "validation_acc = history.history['val_accuracy']\n",
        "\n",
        "\n",
        "# b+ is for \"blue cross\"\n",
        "plt.plot(epochs, training_acc, color='royalblue', label='Training Accuracy')\n",
        "# \"bo\" is for \"blue dot\"\n",
        "plt.plot(epochs, validation_acc, color='indianred', label='Validation Accuracy')\n",
        "plt.xlabel('Epochs')\n",
        "plt.ylabel('Accuracy')\n",
        "plt.legend()\n",
        "\n",
        "plt.show()"
      ],
      "execution_count": 33,
      "outputs": [
        {
          "output_type": "display_data",
          "data": {
            "image/png": "[encoded data removed]",
            "text/plain": [
              "<Figure size 432x288 with 1 Axes>"
            ]
          },
          "metadata": {
            "tags": []
          }
        }
      ]
    },
    {
      "cell_type": "code",
      "metadata": {
        "id": "GH6edUPzq-wl"
      },
      "source": [
        ""
      ],
      "execution_count": null,
      "outputs": []
    },
    {
      "cell_type": "code",
      "metadata": {
        "id": "FkjmdXc0q-uN"
      },
      "source": [
        ""
      ],
      "execution_count": null,
      "outputs": []
    },
    {
      "cell_type": "code",
      "metadata": {
        "id": "uwxJivpcpyPG"
      },
      "source": [
        ""
      ],
      "execution_count": null,
      "outputs": []
    }
  ]
}